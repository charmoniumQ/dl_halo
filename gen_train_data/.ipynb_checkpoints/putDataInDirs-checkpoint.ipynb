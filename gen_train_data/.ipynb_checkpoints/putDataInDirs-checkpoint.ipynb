{
 "cells": [
  {
   "cell_type": "code",
   "execution_count": null,
   "metadata": {},
   "outputs": [],
   "source": [
    "import numpy as np\n",
    "import os\n",
    "import sys\n",
    "from natsort import realsorted, ns\n",
    "from glob import glob\n",
    "import shutil"
   ]
  },
  {
   "cell_type": "code",
   "execution_count": null,
   "metadata": {
    "scrolled": true
   },
   "outputs": [],
   "source": [
    "pat = '/scratch/ds6311/Illustris-3/dm_only_2048_counts_subcubes_64_pad24/tsc/'\n",
    "\n",
    "h = []\n",
    "for (dirpath, dirnames, filenames) in os.walk(pat):\n",
    "    h.extend(dirnames)\n",
    "for direc in h:\n",
    "    print(direc)\n",
    "    f = []\n",
    "    path = pat+direc+'/'\n",
    "    for (dirpath, dirnames, filenames) in os.walk(path):\n",
    "        f.extend(filenames)"
   ]
  },
  {
   "cell_type": "code",
   "execution_count": null,
   "metadata": {
    "scrolled": true
   },
   "outputs": [],
   "source": [
    "for direc in h:\n",
    "    print(direc)\n",
    "    f = []\n",
    "    path = pat+direc+'/'\n",
    "    for (dirpath, dirnames, filenames) in os.walk(path):\n",
    "        f.extend(filenames)\n",
    "    print('number of files:', len(f))\n",
    "    counter = 0\n",
    "    for file in realsorted(f, alg=ns.INT):\n",
    "        if counter < len(f)*0.1:\n",
    "            if not os.path.exists(path+'0/'):\n",
    "                os.makedirs(path+'0/')\n",
    "            os.rename(path+file, path+'0/'+file)\n",
    "        elif counter < len(f)*0.2:\n",
    "            if not os.path.exists(path+'1/'):\n",
    "                os.makedirs(path+'1/')\n",
    "            os.rename(path+file, path+'1/'+file)\n",
    "        elif counter < len(f)*0.3:\n",
    "            if not os.path.exists(path+'2/'):\n",
    "                os.makedirs(path+'2/')\n",
    "            os.rename(path+file, path+'2/'+file)\n",
    "        elif counter < len(f)*0.4:\n",
    "            if not os.path.exists(path+'3/'):\n",
    "                os.makedirs(path+'3/')\n",
    "            os.rename(path+file, path+'3/'+file)\n",
    "        elif counter < len(f)*0.5:\n",
    "            if not os.path.exists(path+'4/'):\n",
    "                os.makedirs(path+'4/')\n",
    "            os.rename(path+file, path+'4/'+file)\n",
    "        elif counter < len(f)*0.6:\n",
    "            if not os.path.exists(path+'5/'):\n",
    "                os.makedirs(path+'5/')\n",
    "            os.rename(path+file, path+'5/'+file)\n",
    "        elif counter < len(f)*0.7:\n",
    "            if not os.path.exists(path+'6/'):\n",
    "                os.makedirs(path+'6/')\n",
    "            os.rename(path+file, path+'6/'+file)\n",
    "        elif counter < len(f)*0.8:\n",
    "            if not os.path.exists(path+'7/'):\n",
    "                os.makedirs(path+'7/')\n",
    "            os.rename(path+file, path+'7/'+file)\n",
    "        elif counter < len(f)*0.9:\n",
    "            if not os.path.exists(path+'8/'):\n",
    "                os.makedirs(path+'8/')\n",
    "            os.rename(path+file, path+'8/'+file)\n",
    "        else:\n",
    "            if not os.path.exists(path+'9/'):\n",
    "                os.makedirs(path+'9/')\n",
    "            os.rename(path+file, path+'9/'+file)\n",
    "        counter += 1"
   ]
  },
  {
   "cell_type": "code",
   "execution_count": null,
   "metadata": {},
   "outputs": [],
   "source": [
    "subpath = ['0','1','2','3','4','5','6','7','8','9']\n",
    "\n",
    "for sub in subpath:\n",
    "    g = []\n",
    "    for (dirpath, dirnames, filenames) in os.walk(pat+'cube0_0_0_0/'+sub+'/'):\n",
    "        g.extend(filenames)\n",
    "        break\n",
    "    print(sub,'len:', len(g))"
   ]
  }
 ],
 "metadata": {
  "kernelspec": {
   "display_name": "Python 3",
   "language": "python",
   "name": "python3"
  },
  "language_info": {
   "codemirror_mode": {
    "name": "ipython",
    "version": 3
   },
   "file_extension": ".py",
   "mimetype": "text/x-python",
   "name": "python",
   "nbconvert_exporter": "python",
   "pygments_lexer": "ipython3",
   "version": "3.8.5"
  }
 },
 "nbformat": 4,
 "nbformat_minor": 4
}
